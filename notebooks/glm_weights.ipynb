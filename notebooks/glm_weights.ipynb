{
 "cells": [
  {
   "cell_type": "code",
   "execution_count": 2,
   "id": "2298365f",
   "metadata": {},
   "outputs": [],
   "source": [
    "import numpy as np\n",
    "import matplotlib.pyplot as plt"
   ]
  },
  {
   "cell_type": "code",
   "execution_count": 12,
   "id": "0f8b42ee",
   "metadata": {},
   "outputs": [],
   "source": [
    "dat=np.load('/home/maria/MouseViT2/src/glm_weights_natural_images.npy')"
   ]
  },
  {
   "cell_type": "code",
   "execution_count": 15,
   "id": "a9acf5f6",
   "metadata": {},
   "outputs": [
    {
     "name": "stdout",
     "output_type": "stream",
     "text": [
      "Neuron 0:\n",
      "  Semantic categories: []\n",
      "\n",
      "Neuron 1:\n",
      "  Semantic categories: ['barber chair', 'convertible', 'limousine', 'shoe shop']\n",
      "\n",
      "Neuron 2:\n",
      "  Semantic categories: ['tobacco shop']\n",
      "\n",
      "Neuron 3:\n",
      "  Semantic categories: []\n",
      "\n",
      "Neuron 4:\n",
      "  Semantic categories: ['bloodhound', 'ashcan', 'barber chair', 'barbershop', 'bookshop', 'cab', 'confectionery', 'convertible', 'fur coat', 'gas pump', 'golfcart', 'joystick', 'lab coat', 'limousine', 'Model T', 'projector', 'racer', 'shoe shop', 'television', 'tobacco shop', 'toyshop', 'trailer truck', 'trench coat']\n",
      "\n"
     ]
    }
   ],
   "source": [
    "import numpy as np\n",
    "import json\n",
    "from torchvision.models import resnet50, ResNet50_Weights\n",
    "\n",
    "# Step 1: Load your GLM weights\n",
    "dat = np.load('/home/maria/MouseViT2/src/glm_weights_natural_images.npy')[:5, :]  # shape (n_neurons, 1000)\n",
    "\n",
    "# Step 2: Get ImageNet class names from torchvision weights enum\n",
    "weights_enum = ResNet50_Weights.IMAGENET1K_V1\n",
    "imagenet_classes = weights_enum.meta['categories']  # list of 1000 class names\n",
    "\n",
    "# Step 3: Extract nonzero entries per neuron\n",
    "def get_nonzero_class_labels(weights_matrix, class_names):\n",
    "    neuron_labels = []\n",
    "    for i, row in enumerate(weights_matrix):\n",
    "        nonzero_indices = np.nonzero(row)[0]\n",
    "        nonzero_labels = [class_names[idx] for idx in nonzero_indices]\n",
    "        neuron_labels.append({\n",
    "            \"neuron_id\": i,\n",
    "            \"nonzero_class_indices\": nonzero_indices.tolist(),\n",
    "            \"nonzero_class_names\": nonzero_labels\n",
    "        })\n",
    "    return neuron_labels\n",
    "\n",
    "# Step 4: Run the function\n",
    "labels_per_neuron = get_nonzero_class_labels(dat, imagenet_classes)\n",
    "\n",
    "# Optional: Print some example neurons\n",
    "for neuron in labels_per_neuron:\n",
    "    print(f\"Neuron {neuron['neuron_id']}:\")\n",
    "    print(\"  Semantic categories:\", neuron[\"nonzero_class_names\"])\n",
    "    print()\n"
   ]
  },
  {
   "cell_type": "code",
   "execution_count": 5,
   "id": "360bd8f5",
   "metadata": {},
   "outputs": [
    {
     "data": {
      "text/plain": [
       "(213, 1000)"
      ]
     },
     "execution_count": 5,
     "metadata": {},
     "output_type": "execute_result"
    }
   ],
   "source": [
    "dat.shape"
   ]
  },
  {
   "cell_type": "code",
   "execution_count": 7,
   "id": "9ceab340",
   "metadata": {},
   "outputs": [
    {
     "data": {
      "text/plain": [
       "<matplotlib.image.AxesImage at 0x71de5ebd3700>"
      ]
     },
     "execution_count": 7,
     "metadata": {},
     "output_type": "execute_result"
    },
    {
     "data": {
      "image/png": "[encoded data removed]",
      "text/plain": [
       "<Figure size 640x480 with 1 Axes>"
      ]
     },
     "metadata": {},
     "output_type": "display_data"
    }
   ],
   "source": [
    "plt.imshow(dat[:5], aspect='auto')"
   ]
  },
  {
   "cell_type": "code",
   "execution_count": 8,
   "id": "8dad7937",
   "metadata": {},
   "outputs": [
    {
     "data": {
      "text/plain": [
       "array([[0., 0., 0., ..., 0., 0., 0.],\n",
       "       [0., 0., 0., ..., 0., 0., 0.],\n",
       "       [0., 0., 0., ..., 0., 0., 0.],\n",
       "       [0., 0., 0., ..., 0., 0., 0.],\n",
       "       [0., 0., 0., ..., 0., 0., 0.]])"
      ]
     },
     "execution_count": 8,
     "metadata": {},
     "output_type": "execute_result"
    }
   ],
   "source": [
    "dat[:5]"
   ]
  }
 ],
 "metadata": {
  "kernelspec": {
   "display_name": ".venv",
   "language": "python",
   "name": "python3"
  },
  "language_info": {
   "codemirror_mode": {
    "name": "ipython",
    "version": 3
   },
   "file_extension": ".py",
   "mimetype": "text/x-python",
   "name": "python",
   "nbconvert_exporter": "python",
   "pygments_lexer": "ipython3",
   "version": "3.10.17"
  }
 },
 "nbformat": 4,
 "nbformat_minor": 5
}
