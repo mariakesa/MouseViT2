{
 "cells": [
  {
   "cell_type": "code",
   "execution_count": 1,
   "id": "22818142",
   "metadata": {},
   "outputs": [
    {
     "name": "stdout",
     "output_type": "stream",
     "text": [
      "Saved: /home/maria/MouseViT2/notebooks/bottleneck_ll_plots_spike/log_likelihood_distribution_C_0.001.png\n",
      "Saved: /home/maria/MouseViT2/notebooks/bottleneck_ll_plots_spike/log_likelihood_distribution_C_0.00278.png\n",
      "Saved: /home/maria/MouseViT2/notebooks/bottleneck_ll_plots_spike/log_likelihood_distribution_C_0.00774.png\n",
      "Saved: /home/maria/MouseViT2/notebooks/bottleneck_ll_plots_spike/log_likelihood_distribution_C_0.0215.png\n",
      "Saved: /home/maria/MouseViT2/notebooks/bottleneck_ll_plots_spike/log_likelihood_distribution_C_0.0599.png\n",
      "Saved: /home/maria/MouseViT2/notebooks/bottleneck_ll_plots_spike/log_likelihood_distribution_C_0.167.png\n",
      "Saved: /home/maria/MouseViT2/notebooks/bottleneck_ll_plots_spike/log_likelihood_distribution_C_0.464.png\n",
      "Saved: /home/maria/MouseViT2/notebooks/bottleneck_ll_plots_spike/log_likelihood_distribution_C_1.29.png\n",
      "Saved: /home/maria/MouseViT2/notebooks/bottleneck_ll_plots_spike/log_likelihood_distribution_C_3.59.png\n",
      "Saved: /home/maria/MouseViT2/notebooks/bottleneck_ll_plots_spike/log_likelihood_distribution_C_10.png\n"
     ]
    }
   ],
   "source": [
    "import pickle\n",
    "\n",
    "with open(\"/home/maria/MouseViT2/src/compression_event_only_results.pkl\", \"rb\") as f:\n",
    "    results = pickle.load(f)\n",
    "\n",
    "from pathlib import Path\n",
    "import matplotlib.pyplot as plt\n",
    "import seaborn as sns\n",
    "all_results = results['all_results']\n",
    "\n",
    "# Create output directory for plots\n",
    "output_dir = Path(\"bottleneck_ll_plots_spike\")\n",
    "output_dir.mkdir(exist_ok=True)\n",
    "\n",
    "# Plot per C\n",
    "for result in all_results:\n",
    "    C = result['C']\n",
    "    real_lls = result['real']\n",
    "    perm_lls = result['perm']\n",
    "    \n",
    "    plt.figure(figsize=(8, 5))\n",
    "    sns.histplot(real_lls, color='blue', label='Real Embeddings', kde=True, stat='density', bins=20)\n",
    "    sns.histplot(perm_lls, color='red', label='Permuted Embeddings', kde=True, stat='density', bins=20, alpha=0.6)\n",
    "    plt.axvline(sum(real_lls)/len(real_lls), color='blue', linestyle='--', label='Real Mean')\n",
    "    plt.axvline(sum(perm_lls)/len(perm_lls), color='red', linestyle='--', label='Permuted Mean')\n",
    "    plt.title(f'Log-likelihood Distribution (C = {C:.3g})')\n",
    "    plt.xlabel('Negative Log-likelihood')\n",
    "    plt.ylabel('Density')\n",
    "    plt.legend()\n",
    "    plt.tight_layout()\n",
    "\n",
    "    # Save to file\n",
    "    filename = output_dir / f\"log_likelihood_distribution_C_{C:.3g}.png\"\n",
    "    plt.savefig(filename)\n",
    "    plt.close()\n",
    "    print(f\"Saved: {filename.resolve()}\")"
   ]
  }
 ],
 "metadata": {
  "kernelspec": {
   "display_name": ".venv",
   "language": "python",
   "name": "python3"
  },
  "language_info": {
   "codemirror_mode": {
    "name": "ipython",
    "version": 3
   },
   "file_extension": ".py",
   "mimetype": "text/x-python",
   "name": "python",
   "nbconvert_exporter": "python",
   "pygments_lexer": "ipython3",
   "version": "3.10.16"
  }
 },
 "nbformat": 4,
 "nbformat_minor": 5
}
